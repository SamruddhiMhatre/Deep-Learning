{
  "nbformat": 4,
  "nbformat_minor": 0,
  "metadata": {
    "colab": {
      "name": "Multiclass classification.ipynb",
      "provenance": [],
      "collapsed_sections": [],
      "authorship_tag": "ABX9TyOcHwlVEOVPaDLX5ENpGIED",
      "include_colab_link": true
    },
    "kernelspec": {
      "name": "python3",
      "display_name": "Python 3"
    },
    "language_info": {
      "name": "python"
    }
  },
  "cells": [
    {
      "cell_type": "markdown",
      "metadata": {
        "id": "view-in-github",
        "colab_type": "text"
      },
      "source": [
        "<a href=\"https://colab.research.google.com/github/SamruddhiMhatre/Deep-Learning/blob/main/Multiclass_classification.ipynb\" target=\"_parent\"><img src=\"https://colab.research.google.com/assets/colab-badge.svg\" alt=\"Open In Colab\"/></a>"
      ]
    },
    {
      "cell_type": "code",
      "metadata": {
        "id": "o7I8-SkQdvqi"
      },
      "source": [
        "# from google.colab import drive\n",
        "# drive.mount('/content/drive')"
      ],
      "execution_count": null,
      "outputs": []
    },
    {
      "cell_type": "code",
      "metadata": {
        "id": "syzYRwtjUYqw"
      },
      "source": [
        "# pip install comet"
      ],
      "execution_count": 221,
      "outputs": []
    },
    {
      "cell_type": "code",
      "metadata": {
        "id": "n22YodC6l6ac"
      },
      "source": [
        "import matplotlib.pyplot as plt\n",
        "import numpy as np\n",
        "import csv\n",
        "import os\n",
        "import re\n",
        "import shutil\n",
        "import string\n",
        "import tensorflow as tf\n",
        "\n",
        "from tensorflow.keras import layers\n",
        "from tensorflow.keras import losses\n",
        "from tensorflow.keras import preprocessing\n",
        "from tensorflow.keras.layers.experimental.preprocessing import TextVectorization"
      ],
      "execution_count": 162,
      "outputs": []
    },
    {
      "cell_type": "code",
      "metadata": {
        "colab": {
          "base_uri": "https://localhost:8080/",
          "height": 37
        },
        "id": "pcQ2--Iz8PMl",
        "outputId": "bec71921-c260-466b-e755-1b7e854e76df"
      },
      "source": [
        "tf.__version__"
      ],
      "execution_count": 163,
      "outputs": [
        {
          "output_type": "execute_result",
          "data": {
            "application/vnd.google.colaboratory.intrinsic+json": {
              "type": "string"
            },
            "text/plain": [
              "'2.5.0'"
            ]
          },
          "metadata": {
            "tags": []
          },
          "execution_count": 163
        }
      ]
    },
    {
      "cell_type": "markdown",
      "metadata": {
        "id": "Y-GfJgCCeDg-"
      },
      "source": [
        "Importing data from directory"
      ]
    },
    {
      "cell_type": "code",
      "metadata": {
        "id": "ssGpIf_FdwhB"
      },
      "source": [
        "import tensorflow as tf\n",
        "import os\n",
        "import pathlib\n",
        "\n",
        "url = 'http://storage.googleapis.com/download.tensorflow.org/data/stack_overflow_16k.tar.gz'"
      ],
      "execution_count": 164,
      "outputs": []
    },
    {
      "cell_type": "code",
      "metadata": {
        "id": "DbAMYsN6FHeB"
      },
      "source": [
        "class DataLoader:\n",
        "  \"\"\"\n",
        "  Data loading class: From loading data from a given path to \n",
        "  preparation of train,test and validation data\n",
        "  \"\"\"\n",
        "  def __init__(self, path, filename = None, cachedir = None):\n",
        "    self.path = path\n",
        "    self.filename = filename\n",
        "    self.cachedir = cachedir\n",
        "\n",
        "\n",
        "  def load_dataset(self):\n",
        "    dataset = tf.keras.utils.get_file(self.filename, \n",
        "                                      self.path, \n",
        "                                      untar=True, \n",
        "                                      cache_dir= self.cachedir,\n",
        "                                      cache_subdir = '')\n",
        "\n",
        "    dataset_dir = pathlib.Path(dataset).parent\n",
        "\n",
        "    return dataset_dir\n",
        "\n",
        "\n",
        "  def train_dir(self, dataset_dir, train_path):\n",
        "    self.dataset_dir = dataset_dir\n",
        "    self.train_path = train_path\n",
        "    train_dir = os.path.join(dataset_dir, self.train_path)\n",
        "    print('Train directory: ', os.listdir(train_dir))\n",
        "\n",
        "    return train_dir\n",
        "\n",
        "\n",
        "  def test_dir(self, dataset_dir, test_path):\n",
        "    self.dataset_dir = dataset_dir\n",
        "    self.test_path = test_path\n",
        "    test_dir = os.path.join(dataset_dir, self.test_path)\n",
        "    print('Test directory: ', os.listdir(test_dir))\n",
        "\n",
        "    return test_dir\n",
        "\n",
        "  \n",
        "  def read_conent(self, directory, content_path):\n",
        "    '''Returns output of the text files (only)\n",
        "       in the train/test directory\n",
        "        \n",
        "       directory: train/test directory or directory which contents the data(text files)\n",
        "       content_path: path to the content you want to display'''\n",
        "\n",
        "    self.directory = directory\n",
        "    self.content_path = content_path\n",
        "    sample_file = os.path.join(self.directory, self.content_path)\n",
        "    with open(sample_file) as f:\n",
        "      print(f.read())\n",
        "\n",
        "\n",
        "  def load_train_data(self, train_dir, validation_split, batch_size=None, seed=None):\n",
        "    self.train_dir = train_dir\n",
        "    self.validation_split = validation_split\n",
        "    self.batch_size = batch_size\n",
        "    self.seed = seed\n",
        "    \n",
        "     \n",
        "    # raw train data ------> make as one, not separate for val and test\n",
        "    raw_train_ds = tf.keras.preprocessing.text_dataset_from_directory(\n",
        "        self.train_dir,\n",
        "        labels='inferred',\n",
        "        seed=self.seed,\n",
        "        batch_size=self.batch_size,\n",
        "        validation_split=self.validation_split,\n",
        "        subset = 'training')\n",
        "\n",
        "    print('Number of batches in training set: ', tf.data.experimental.cardinality(raw_train_ds), '\\n')\n",
        "\n",
        "    return raw_train_ds\n",
        "\n",
        "\n",
        "  def load_validation_data(self, train_dir, validation_split, batch_size=None, seed=None):\n",
        "    self.train_dir = train_dir\n",
        "    self.batch_size = batch_size\n",
        "    self.seed = seed\n",
        "    self.validation_split = validation_split\n",
        "\n",
        "    # raw validation data\n",
        "    raw_val_ds = tf.keras.preprocessing.text_dataset_from_directory(\n",
        "        self.train_dir,\n",
        "        labels='inferred',\n",
        "        seed=self.seed,\n",
        "        batch_size=self.batch_size,\n",
        "        validation_split=self.validation_split,\n",
        "        subset = 'validation')\n",
        "\n",
        "    print('Number of batches in validation set: ', tf.data.experimental.cardinality(raw_val_ds),'\\n')\n",
        "\n",
        "    return raw_val_ds\n",
        "\n",
        "\n",
        "  def load_test_data(self, test_dir, batch_size):\n",
        "    self.test_dir = test_dir\n",
        "    self.batch_size = batch_size\n",
        "\n",
        "    # raw test data\n",
        "    raw_test_ds = tf.keras.preprocessing.text_dataset_from_directory(\n",
        "    self.test_dir,\n",
        "    batch_size = self.batch_size)\n",
        "    \n",
        "    print('Number of batches in testing set: ', tf.data.experimental.cardinality(raw_test_ds))\n",
        "\n",
        "    return raw_test_ds\n",
        "\n",
        "        \n"
      ],
      "execution_count": 165,
      "outputs": []
    },
    {
      "cell_type": "code",
      "metadata": {
        "id": "-5ulIrHbjQFV"
      },
      "source": [
        "import json\n",
        "from abc import ABC, abstractmethod\n",
        "\n",
        "class BaseModel(ABC):\n",
        "    \"\"\"Abstract Model class that is inherited to all models\"\"\"\n",
        "    def __init__(self, cfg):\n",
        "        self.config = Config.from_json(cfg)\n",
        "\n",
        "    @abstractmethod\n",
        "    def load_data(self):\n",
        "        pass\n",
        "\n",
        "    @abstractmethod\n",
        "    def build(self):\n",
        "        pass\n",
        "\n",
        "    @abstractmethod\n",
        "    def train(self):\n",
        "        pass\n",
        "\n",
        "    @abstractmethod\n",
        "    def evaluate(self):\n",
        "        pass"
      ],
      "execution_count": 166,
      "outputs": []
    },
    {
      "cell_type": "code",
      "metadata": {
        "colab": {
          "base_uri": "https://localhost:8080/"
        },
        "id": "OtJcVZKgG2kf",
        "outputId": "b946ac74-36c0-48a7-96aa-d9a215a31a12"
      },
      "source": [
        "load = DataLoader(path= url, filename = 'stack_overflow_16k.tar.gz', cachedir ='stack_overflow')\n",
        "\n",
        "dataset_dir = load.load_dataset()\n",
        "train_dir = load.train_dir(dataset_dir, 'train')\n",
        "test_dir = load.test_dir(dataset_dir, 'test')\n",
        "load.read_conent(train_dir,'python/0.txt')\n",
        "raw_train_ds = load.load_train_data(train_dir=train_dir, validation_split=0.2, batch_size=32,seed=44)\n",
        "raw_val_ds = load.load_validation_data(train_dir=train_dir, validation_split=0.2, batch_size=32,seed=44)\n",
        "raw_test_ds = load.load_test_data(test_dir=test_dir, batch_size=32)"
      ],
      "execution_count": 167,
      "outputs": [
        {
          "output_type": "stream",
          "text": [
            "Train directory:  ['java', 'csharp', 'python', 'javascript']\n",
            "Test directory:  ['java', 'csharp', 'python', 'javascript']\n",
            "\"is it legal to define two methods with the same name but different returning types? i've written a piece of code to determine a typical palindrome string. i did this by the definition of a reverse() method returning a string. i also eager to have the same method, but in the void form, because of some future needs..as i add the latter to the code, the valid output will become invalid..so, the question is that is it legal to define two methods with the same name but different returning types?.if not, please let me know how to write this code with the void-type method...class detector(object):.    def __init__(self,string):.        self.string = string..    forbidden = (' ','!','?','.','-','_','&amp;','%',\"\"#\"\",\"\",\"\")..    def eliminator(self):.        for item in self.forbidden:.            if item in self.string:.                self.string = self.string.replace(item,\"\"\"\")..    def reverse(self):.        return self.string[::-1]            ..    #def reverse(self):.    #    self.string = self.string[::-1]    i am prone to add this method..    def check(self):.        reversed = self.reverse().        if self.string == reversed:.            print(\"\"yes\"\").        else:.            print(\"\"no\"\")..det = detector(\"\"rise to vote, sir!\"\").det.eliminator().det.check()...when i add the commented lines, the valid \"\"yes\"\" becomes \"\"no\"\"!\"\n",
            "\n",
            "Found 8000 files belonging to 4 classes.\n",
            "Using 6400 files for training.\n",
            "Number of batches in training set:  tf.Tensor(200, shape=(), dtype=int64) \n",
            "\n",
            "Found 8000 files belonging to 4 classes.\n",
            "Using 1600 files for validation.\n",
            "Number of batches in validation set:  tf.Tensor(50, shape=(), dtype=int64) \n",
            "\n",
            "Found 8000 files belonging to 4 classes.\n",
            "Number of batches in testing set:  tf.Tensor(250, shape=(), dtype=int64)\n"
          ],
          "name": "stdout"
        }
      ]
    },
    {
      "cell_type": "code",
      "metadata": {
        "colab": {
          "base_uri": "https://localhost:8080/"
        },
        "id": "-LFJe25xeKHI",
        "outputId": "f13d9b34-110b-4cbd-8228-cd7063376f01"
      },
      "source": [
        "for item in dataset_dir.iterdir():\n",
        "  print(item)"
      ],
      "execution_count": 168,
      "outputs": [
        {
          "output_type": "stream",
          "text": [
            "/tmp/.keras/stack_overflow_16k.tar.gz.tar.gz\n",
            "/tmp/.keras/test\n",
            "/tmp/.keras/README.md\n",
            "/tmp/.keras/train\n"
          ],
          "name": "stdout"
        }
      ]
    },
    {
      "cell_type": "code",
      "metadata": {
        "colab": {
          "base_uri": "https://localhost:8080/"
        },
        "id": "IevP7SikQCmn",
        "outputId": "6fe152eb-f1be-4cfb-f0e0-62b2670ba692"
      },
      "source": [
        "# checking position of features\n",
        "\n",
        "raw_train_ds"
      ],
      "execution_count": 169,
      "outputs": [
        {
          "output_type": "execute_result",
          "data": {
            "text/plain": [
              "<BatchDataset shapes: ((None,), (None,)), types: (tf.string, tf.int32)>"
            ]
          },
          "metadata": {
            "tags": []
          },
          "execution_count": 169
        }
      ]
    },
    {
      "cell_type": "code",
      "metadata": {
        "colab": {
          "base_uri": "https://localhost:8080/"
        },
        "id": "iwylxl_OKjKH",
        "outputId": "4908a52f-f3e7-4c33-e346-c8262f4dd471"
      },
      "source": [
        "# taking a look at the data \n",
        "\n",
        "for text_batch, label_batch in raw_train_ds.take(2):\n",
        "  for i in range(6):\n",
        "    print(\"Query\", text_batch.numpy()[i])\n",
        "    print(\"Label\", label_batch.numpy()[i])"
      ],
      "execution_count": 170,
      "outputs": [
        {
          "output_type": "stream",
          "text": [
            "Query b'\"execute the script with special command iceweasel ( which is a firefox webbrowser for debian ) i have a problem, i would like to execute my blank script but with special command like this:..iceweasel \\'info.py server.py path_install.py\\'...this command must be typed on the client and we open the page with informations :..info.py (= os and ip of client).server.py.path_install.py...but i really don\\'t understand where to start this ...\"\\n'\n",
            "Label 3\n",
            "Query b'\"toggle elements jquery i have a three a tags on a page. user can \"\"select\"\" only one..markup:..&lt;div class=\"\"fl_near\"\"&gt;.  &lt;span class=\"\"title\"\"&gt;title&lt;/span&gt;.  &lt;p&gt;.    &lt;a id=\"\"filter_today\"\" class=\"\"first_tb\"\" style=\"\"display: block\"\"&gt;.      &lt;span&gt;text1&lt;/span&gt;.    &lt;/a&gt;.    &lt;a id=\"\"filter_tomorrow\"\"&gt;.      &lt;span&gt;text2&lt;/span&gt;.    &lt;/a&gt;.    &lt;a id=\"\"filter_aftertomorrow\"\" class=\"\"last_tb selected\"\" style=\"\"display: block\"\"&gt;.      &lt;span&gt;text3&lt;/span&gt;.    &lt;/a&gt;.  &lt;/p&gt;.&lt;/div&gt;...js code:  ..$(\\'.fl_near\\').find(\\'a:not(.selected)\\').click(function () {.    alert(\\'1\\');.        $(\\'.fl_near\\').find(\\'a\\').removeclass(\\'selected\\');.        $(this).addclass(\\'selected\\');.    });...this code not works properly. if i select first or second tag then all ok - style is switched, but alert shows anyway. if i select first then i can\\'t select the last..where is a problem and why?.thanks...demo\"\\n'\n",
            "Label 2\n",
            "Query b'\"how can i sort arrays of various sizes in blank? like 10, 20, 50, 100, 1000 elements? i need to sort arrays of varying sizes. these sizes are: 10 elements, 50 elements, 100 elements, 500 elements, and 1000 elements. for each of these array sizes, i should use one array that is already sorted, another array that is partially sorted, and one that is random. i should use three sorts, like quicksort, insertion, or bubblesort. i have been working this for 2 weeks but can not seem to create an call the arrays.\"\\n'\n",
            "Label 1\n",
            "Query b'\"list comprehension with nested list, if statement and range steps i have a list with the following syntax:..list_in = [[\"\"text1\"\",\"\"\"\", [\"\"text2.xml\"\", \"\"text2.png\"\", ...]], .         [\"\"text3\"\", \"\"\"\", [\"\"text4.xml\"\", \"\"text4.png\"\", ...]], .         [\"\"text5\"\",\"\"\"\", [\"\"text6.xml\"\", \"\"text6.png\"\", ...]], .         [\"\"text7\"\", \"\"\"\", [\"\"text8.png\"\", \"\"text8.xml\"\", ...]], .         [\"\"text9\"\", \"\"\"\", [\"\"text10.png\"\", \"\"text10.xml\"\", ...]], .         ...]...the output i want is a list with concatenation of list_in[i][0] with list_in[i][2] if list_in[i][2] ends with \"\".xml\"\" starting at list_in[2] following steps of 2...given above example: list_out = [\"\"text5text6.xml\"\", \"\"text9text10.xml\"\"]..i have tried the following code:..list_out = [list_in[i][0] + list_in[i][2] for i in range(2, len(input), 2) if i.endswith(\"\".xml\"\")]...but it won\\'t work because list_in[i][2] is another iterable..so my question is how can i achieve getting my output given the criteria?\"\\n'\n",
            "Label 3\n",
            "Query b'\"blank - how do i access private method of a plugin as shown in below image, i would like to access gettable function. i\\'ve tried in this way:..var resizeheaderplugin = table.getplugins()[1];.            var objplugin = object.getprototypeof(resizeheaderplugin);.            console.log(objplugin); // prints as shown in image.            console.log(objplugin.gettable()); // always prints undefined...i am not sure gettable in super of constructor and gettable in proto are meant to be same or not...gettable in plugin is defined as:..         /**.         * @method gettable.         * @private.         */.        gettable: function () {.            return _(this).table;.        },...how do i access this method and get it\\'s return value ?\"\\n'\n",
            "Label 2\n",
            "Query b'\"passing a form post parameter between two blank functions this is my html code:..&lt;form name=\"\"frmmain\"\" action =\"\"&lt;?php echo(htmlentities($_server[\\'php_self\\'])); ?&gt;\"\". method=\"\"post\"\" onsubmit=\"\"return validateform(this);\"\" enctype=\"\"multipart/form-data\"\"&gt;. .... ....  ....&lt;button type=\"\"submit\"\" name=\"\"btnsubmit\"\" class=\"\"btn btn-default\"\" .    style=\"\"position: relative; float:right; margin-right: 50px;\"\"&gt;submit evaluation .    &lt;i class=\"\"glyphicon glyphicon-chevron-right\"\"&gt;&lt;/i&gt;&lt;/button&gt;.&lt;/form&gt;...when the submit evaluation button is clicked, this function in blank triggers:..function validateform(frm).{.    var html=\"\"\"\"; // to store the html content..    // build the content of the create vendor popup form.    html+=\"\"&lt;div class=\\'col-md-12 divpreview\\' id=\\'divpreview\\'&gt;n.&lt;div class=\\'col-md-12 divbackground\\' id=\\'divbackground\\'&gt;n.&lt;button type=\\'submit\\' name=\\'btnsubmit\\' class=\\'btn btn-default\\' onclick=\\'return submitform(frm);\\'&gt;submit&lt;/button&gt;n.&lt;/div&gt;&lt;/div&gt;\"\";..    $(\"\"#divpreview\"\").html(html); // display processing popup form.    return(false);.}...it is really a preview div with a button to submit to the following method:..function submitform(frm).{.    .. do some processing here.    frm.submit(); // submit the form.    return(false); // to prevent the calling form from executing.}...how to pass the frm form parameter from validateform() to submitform()?..i did this and now it\\'s working:..function validateform(frm).{.    var html=\"\"\"\"; // to store the html content..    // build the content of the create vendor popup form.    html+=\"\"&lt;div class=\\'col-md-12 divpreview\\' id=\\'divpreview\\'&gt;n.&lt;div class=\\'col-md-12 divbackground\\' id=\\'divbackground\\'&gt;n.&lt;button type=\\'submit\\' name=\\'btnsubmit\\' class=\\'btn btn-default\\'&gt;submit&lt;/button&gt;&lt;/div&gt;&lt;/div&gt;\"\";..    $(\"\"#divpreview\"\").html(html); // display processing popup form.$(\"\"#btnsubmit\"\").on(\"\"click\"\", function(){ submitform(frm); });.    return(false);.}\"\\n'\n",
            "Label 2\n",
            "Query b'\"what junit test method could i use to test that the swapped numbers is equal to \"\"5, 2, 3, 4, 1, 6, 7\"\"? here is the class that will swap two elements of an array, what i want to do is add a junit testing to see if the outputted changed values are equal to 5, 2, 3, 4, 1, 6, 7...import blank.util.arrays;..public class test { .    public static &lt;t&gt; void swap(t[]n,int index1, int index2) {.        t temp= n[index1];.        n[index1]=n[index2];.        n[index2]=temp; .    }..    public static void main(string[]args) {.        integer[] n= {1,2,3,4,5,6,7};.        system.out.println(\"\"before: \"\"+arrays.tostring(n));.        swap(n,0,4);.        system.out.println(\"\"after: \"\"+arrays.tostring(n));.    }.}\"\\n'\n",
            "Label 1\n",
            "Query b'\"how to stop a keypad from returning upper case letters blank i have a keyboard that returns how many keypresses it would take to make a string on a user input keyboard, but i\\'m supposed to only have it calculate strings that dont have any uppercase or punctuation. how can i have it exclude punctuation or strings with upper case letters in them? ..public class keypad..char [][] letters; ...public keypad(string chars, int rowlength).{.    int column = chars.length()/rowlength;.    if(chars.length()%rowlength!=0) {.        column++;.    }..    letters = new char[column][rowlength]; .    for(int i = 0, n=0; i &lt; letters.length ; i++) {.        for(int j = 0 ; n &lt; chars.length() &amp;&amp; j &lt; letters[i].length ; j++, n++) {.            letters[i][j] = chars.charat(n);.        }.    }..}....public int[]  find(char letter) {.    int [] coordinates;.    coordinates = new int [2];.    for(int i=0; i&lt;letters.length; i++) {.        for(int j = 0; j&lt;letters[i].length; j++) {..            if(letters[i][j] != letter){.                coordinates[0] = -1; .                coordinates[1] = -1; .            }.            else {.                coordinates[0]= i; .                coordinates[1]= j;  .                return coordinates; .            }.        }..    }.    return coordinates; .}...public int pressesrequired(string wordwanted) {.    int total = 0; .    char searching; .    int [] nextcoordinates = new int [2];.    int [] currentcoordinates = new int[] {0, 0};..    for(int i=0; i&lt;wordwanted.length(); i++) {.        searching = wordwanted.charat(i);.        nextcoordinates = find(searching); .        total += math.abs(currentcoordinates[0]-nextcoordinates[0]); .        total += math.abs(currentcoordinates[1]-nextcoordinates[1]); .        currentcoordinates = nextcoordinates; .        total++; ...    }..    return total; .}\"\\n'\n",
            "Label 1\n",
            "Query b'\"better data structure to handle this array i have an array of data get from the server(ordered by date):..[ {date:\"\"2012-8\"\", name:\"\"tokyo\"\"}, {date:\"\"2012-3\"\", name:\"\"beijing\"\"}, {date:\"\"2011-10\"\", name:\"\"new york\"\"} ]..i\\'d like to :...get the name of the first element whose date is in a given year, for example, given 2012, i need tokyo  .get the year of a given name.change the date of a name...which data structure should i use to make this effective ?..because the array could be large, i prefer not to loop the array to find something\"\\n'\n",
            "Label 2\n",
            "Query b'\"once we declare the variable.in which memory it will store whether heap or stack? i heard that variables are stored in stack and objects are stored in heap...if i declare variable as var password= \"\"abc\"\".now where this password is going to store(heap /stack)\"\\n'\n",
            "Label 0\n",
            "Query b'\"somethings wrong with my blank? i\\'m trying to make a page that you type in something in the textbox and the page will alert the text in the textbox but look at the function alert it\\'s not working please help!!!....&lt;!doctype html&gt;.&lt;html&gt;..&lt;head&gt;.  &lt;script&gt;.    function alert() {.      var userinput = document.getelementbyid(\"\"1\"\").value;.      var email = document.getelementsbyclassname(\"\"gb_b gb_7a gb_r gb_3a\"\").innerhtml;.      window.alert(\"\"from: \"\", +email + \"\" message: \"\" + userinput);.    }.  &lt;/script&gt;.  &lt;base target=\"\"_top\"\"&gt;.&lt;/head&gt;..&lt;body&gt;.  &lt;input id=\"\"1\"\" type=\"\"text\"\" value=\"\"write what you want the page to say\"\"&gt;.  &lt;button onclick=\"\"alert()\"\"&gt;enter&lt;/button&gt;.&lt;/body&gt;..&lt;/html&gt;\"\\n'\n",
            "Label 2\n",
            "Query b'\"nullable int (int?) not throwing null reference exception i have encountered the code something like this..int? x = new int();.x = null;.var y = x.tostring();...my understanding is that it should throw a null reference exception. but the code is not breaking and i am getting the value of y as \"\"\"\". please let me understand that what\\'s happening here in behind.\"\\n'\n",
            "Label 0\n"
          ],
          "name": "stdout"
        }
      ]
    },
    {
      "cell_type": "code",
      "metadata": {
        "id": "7Yvncg4rLt1s"
      },
      "source": [
        "\n",
        "max_features = 10000\n",
        "sequence_length = 250\n",
        "\n",
        "vectorize_layer = TextVectorization(   # for batch of strings\n",
        "    standardize=data_preprocess.text_standardization,\n",
        "    max_tokens=max_features,\n",
        "    output_mode='binary'              #  binary mode to build bag of words model\n",
        ")\n",
        "\n",
        "\n",
        "class DataPreprocess:\n",
        "  def __init__(self):\n",
        "    pass\n",
        "\n",
        "  def data_segregation(self, raw_data):\n",
        "    \"\"\"\n",
        "    Storing data separately in the form of text and labels\n",
        "\n",
        "    Input: Raw Data\n",
        "\n",
        "    Output: List of Text Batches, List of Label Batches\n",
        "    \"\"\"\n",
        "    \n",
        "    self.raw_data = raw_data\n",
        "\n",
        "    texts = []\n",
        "    labels = []\n",
        "\n",
        "    for text_batch, label_batch in raw_data:\n",
        "      texts.append(text_batch)\n",
        "      labels.append(label_batch)\n",
        "\n",
        "    return texts, labels\n",
        "\n",
        "  \n",
        "  def text_standardization(self, text):\n",
        "    \"\"\"\n",
        "    Input: Batch Text list\n",
        "\n",
        "    Output: Returns list after removing the html tags from the lower cased text\n",
        "    \"\"\"\n",
        "\n",
        "    self.text = text\n",
        "    text = tf.strings.lower(text)\n",
        "    cleantext = tf.strings.regex_replace(text,\"<[^>]+>\", \" \")\n",
        "\n",
        "    return cleantext\n",
        "\n",
        "\n",
        "\n",
        "\n"
      ],
      "execution_count": 171,
      "outputs": []
    },
    {
      "cell_type": "code",
      "metadata": {
        "id": "Oy_u6FZXM6Ii"
      },
      "source": [
        "# storing questions and their lables for train, validation and test\n",
        "\n",
        "data_preprocess = DataPreprocess()\n",
        "train_texts, train_labels = data_preprocess.data_segregation(raw_train_ds)\n",
        "val_texts, val_labels = data_preprocess.data_segregation(raw_val_ds)\n",
        "test_texts, test_labels = data_preprocess.data_segregation(raw_test_ds)"
      ],
      "execution_count": 172,
      "outputs": []
    },
    {
      "cell_type": "code",
      "metadata": {
        "colab": {
          "base_uri": "https://localhost:8080/"
        },
        "id": "C2RrIm8pks0V",
        "outputId": "c9c66b69-6c19-4bee-b80e-a166885dfbd3"
      },
      "source": [
        "import numpy as np\n",
        "print('Train set data type:', type(train_texts))\n",
        "print('Train set shape:', np.asarray(train_texts).shape)"
      ],
      "execution_count": 173,
      "outputs": [
        {
          "output_type": "stream",
          "text": [
            "Train set data type: <class 'list'>\n",
            "Train set shape: (200, 32)\n"
          ],
          "name": "stdout"
        }
      ]
    },
    {
      "cell_type": "code",
      "metadata": {
        "colab": {
          "base_uri": "https://localhost:8080/"
        },
        "id": "uBcn-YhOk-0B",
        "outputId": "eb707135-0771-4fcf-ec93-ac07c2aae752"
      },
      "source": [
        "raw_train_ds.class_names"
      ],
      "execution_count": 174,
      "outputs": [
        {
          "output_type": "execute_result",
          "data": {
            "text/plain": [
              "['csharp', 'java', 'javascript', 'python']"
            ]
          },
          "metadata": {
            "tags": []
          },
          "execution_count": 174
        }
      ]
    },
    {
      "cell_type": "code",
      "metadata": {
        "colab": {
          "base_uri": "https://localhost:8080/"
        },
        "id": "4YlNmeA-lIEM",
        "outputId": "a35b74a4-7065-404f-b0f5-5d0ddf28c8ce"
      },
      "source": [
        "print('Label 0 corresponds to class: ', raw_train_ds.class_names[0])\n",
        "print('Label 1 corresponds to class: ', raw_train_ds.class_names[1])\n",
        "print('Label 2 corresponds to class: ', raw_train_ds.class_names[2])\n",
        "print('Label 3 corresponds to class: ', raw_train_ds.class_names[3])"
      ],
      "execution_count": 175,
      "outputs": [
        {
          "output_type": "stream",
          "text": [
            "Label 0 corresponds to class:  csharp\n",
            "Label 1 corresponds to class:  java\n",
            "Label 2 corresponds to class:  javascript\n",
            "Label 3 corresponds to class:  python\n"
          ],
          "name": "stdout"
        }
      ]
    },
    {
      "cell_type": "code",
      "metadata": {
        "colab": {
          "base_uri": "https://localhost:8080/"
        },
        "id": "ha-r_NQYlYhn",
        "outputId": "4762310b-5487-4981-b0c5-54110ec42cf0"
      },
      "source": [
        "# data standardization\n",
        "clean = data_preprocess.text_standardization(train_texts)\n",
        "clean"
      ],
      "execution_count": 176,
      "outputs": [
        {
          "output_type": "execute_result",
          "data": {
            "text/plain": [
              "<tf.Tensor: shape=(200, 32), dtype=string, numpy=\n",
              "array([[b'\"can\\'t get the method to work i have this method here, which converts an image to a byte array...public byte[] imagetocompressedbytearray(image image) throws ioexception {.//load the image.string f = \"\"c:\\\\users\\\\mamed\\\\documents\\\\netbeansprojects\\\\main\\\\src\\\\resources\\\\accept.png\"\";.image = imageio.read(new fileinputstream(new file(f)));...// get image size.int width = image.getwidth(null);.int height = image.getheight(null);...try {.  int[] imagesource = new int[width * height];.  pixelgrabber pg = new pixelgrabber(image, 0, 0, width, height, imagesource, 0, width);.  pg.grabpixels();...  bytearrayoutputstream bytestream = new bytearrayoutputstream(); .  gzipoutputstream zippedstream = new gzipoutputstream(bytestream);.  objectoutputstream objectstream = new objectoutputstream(zippedstream);.  objectstream.writeshort(width);.  objectstream.writeshort(height);.  objectstream.writeobject(imagesource);.  objectstream.flush();.  objectstream.close();.  return bytestream.tobytearray();.}.catch (exception e) {.  throw new ioexception(\"\"error storing image in object: \"\" + e);.}...}..however, i can\\'t get this to work, i mean, it can\\'t load the image and convert it, and i don\\'t have an idea what the problem can be.\"\\n',\n",
              "        b'\"text writing in blank how can i write down the random variable that was used .for example...string[] fnames = { \"\"aleisha\"\", \"\"sadye\"\", \"\"ethyl\"\");.string[] lname = {\"\"smith\"\",\"\"johnson\"\",\"\"melody\"\");.random r = new random();.int wfname = r.next(fnames.length);.int wlname = r.next(lnames.length);...so if the name \"\"aleisha\"\" and \"\"smith\"\" is used how can i write that in the text file. ..i already know this code below. but, i need it to use the random one that is picked not another random one. if that makes sense. ..system.io.file.writealllines(@\"\"c:userspublictestfoldernames.txt\"\", wfnames + wlname);\"\\n',\n",
              "        b'\"mask object that extends blank.util.date from returning true with instanceof i have a class that extends from blank.util.date. however i need to make sure that the condition instanceof date returns false. is this possible? the reason is because i need to override the functionality of a framework i am integrating with that will change the behavior of my object if it is of type date. ..import blank.io.serializable;.import blank.util.date;..public abstract class kronosdatetime extends date implements serializable {..    public kronosdatetime(final long time) {.        super(time);.    }..    public kronosdatetime() {.        super();.    }..    public abstract double todoublevalue();..}...public final class kronosdatetimeimpl extends kronosdatetime {.    public kronosdatetimeimpl() {.        this(system.currenttimemillis(),true);.    }.}..public final class kronos {.    public static kronosdatetime call(pagecontext pc) {.        kronosdatetimeimpl datetime = new kronosdatetimeimpl(pc);.        system.out.println(datetime instanceof blank.util.date); // should return false.        return datetime;.    }.}\"\\n',\n",
              "        ...,\n",
              "        b'\"why is unpack so slow? i have a simple example:...def __init__(self,string):.    self.string = string..def ui32(self):.    tmp = self.string[:4].    self.string = self.string[4:].    return unpack(\"\">i\"\",tmp)[0]..data = file.read().u = ui(data).for i in range(60000):.    test = ui32()...total time: 22 seconds!\"\\n',\n",
              "        b'\"how to access hexadecimal list in blank? i want to use a list of hexadecimal numbers...why does rnd1 always == 0? .in this case it should equal position 1 of rn_table, which is 6...also, changing the print type to %x (for hex) gives this error: .\"\"type error: %x format: a number is required, not list\"\" - i\\'m using numbers, but i suppose this means i cannot use a list? in this case what should i use instead of a list?..cluck = 16.clevel = 12.enemy_level = 10..rn_table = [0x63, 0x06, 0xf0, 0x23, 0xf8, 0xe5, 0xa8, 0x01, 0xc1, 0xae, 0x7f, 0x48,.0x7b, 0xb1, 0xdc, 0x09, 0x22, 0x6d, 0x7d, 0xee, 0x9d, 0x58, 0xd5, 0x55, 0x24, 0x39, 0x7a, 0xdf,.0x8e, 0x54, 0x6c, 0x1b, 0xc0, 0x0b, 0xd0, 0x43, 0xd8, 0x9a, 0x47, 0x5d, 0x21, 0x02, 0x17, 0x4b,.0xdb, 0x11, 0xaf, 0x70, 0xcd, 0x4d, 0x34, 0x49, 0x72, 0x91, 0x2d, 0x62, 0x97, 0x59, 0x45, 0xf7,.0x6e, 0x46, 0xaa, 0x0a, 0xa3, 0xc8, 0x31, 0x92, 0x38, 0xfa, 0xd4, 0xe6, 0xcb, 0xf3, 0xde, 0x6b,.0xbb, 0xf1, 0x1c, 0x3c, 0xd6, 0xad, 0xb2, 0xa9, 0xdd, 0x57, 0x42, 0x95, 0x0c, 0x79, 0x25, 0x1f,.0xbc, 0xe7, 0xac, 0x5b, 0x83, 0x28, 0x76, 0xf2, 0x18, 0xda, 0x87, 0xa1, 0x61, 0x6f, 0xbe, 0x5a,.0x5e, 0x51, 0xef, 0xb0, 0xc9, 0x15, 0x74, 0x89, 0xbd, 0xd1, 0xa2, 0x75, 0xd7, 0x99, 0x85, 0x4c,.0x4f, 0xd2, 0xbf, 0x4a, 0x20, 0x08, 0x56, 0xa0, 0x50, 0x3a, 0x67, 0x26, 0x41, 0x33, 0xb7, 0xba,.0xfb, 0x30, 0xcf, 0x7c, 0x84, 0x2c, 0x32, 0xe9, 0x1d, 0x16, 0x82, 0x78, 0xa4, 0x80, 0x65, 0x5f,.0x0e, 0x27, 0xb9, 0x19, 0xc3, 0xa7, 0xb6, 0x00, 0x3b, 0xfc, 0x88, 0xe1, 0xc6, 0x93, 0xfe, 0x8b,.0xd9, 0xb8, 0x13, 0x69, 0x2f, 0x64, 0x12, 0x37, 0xfd, 0x77, 0xe2, 0xb5, 0x04, 0xe0, 0x1a, 0x8c,.0x8f, 0xb4, 0xcc, 0xf9, 0x60, 0xeb, 0x29, 0xe3, 0x90, 0xa5, 0x68, 0x3d, 0x81, 0x73, 0x3f, 0xab,.0x7e, 0xb3, 0x0f, 0xce, 0xc4, 0x35, 0x94, 0x96, 0x86, 0x71, 0xd3, 0x2a, 0xe4, 0x9f, 0x9c, 0xec,.0x4e, 0x14, 0xf5, 0xea, 0x40, 0xa6, 0xf6, 0x03, 0x98, 0xc5, 0x07, 0xf4, 0x2b, 0xc2, 0x3e, 0xe8,.0x9b, 0x36, 0x53, 0x2e, 0x8d, 0x0d, 0x52, 0x10, 0x66, 0x1e, 0xed, 0x8a, 0x44, 0x9e, 0x05, 0xff,.0x5c, 0xc7, 0x6a, 0xca, 0x00, 0x0c, 0x12, 0x19, 0x21, 0x27, 0x2d, 0x35, 0x3d, 0x49, 0x51, 0x5a,.0x62, 0x69, 0x72, 0x7a, 0x83, 0x8b, 0x94, 0x9d, 0xa5, 0xab, 0xb2, 0xb9, 0xc1, 0xc9, 0xd2, 0xd9,.0xde, 0xe3, 0xe8, 0xed, 0xf5]..lookups = [0,0,0,0,0,0,0,0].index = 0.dword_c06748 = 0..count = 0.rnd1 = 0..index1 = 0.offset1 = 0..def next_value():.    global lookups, index, count, rnd1, index1.    while count &lt; 1:.        index1 = index + 1.        rnd1 = rn_table[0].        lookups[index] += 1.        index = index + 1 &amp; 7.        count += 1..next_value().print \"\"in: %r  cnt: %r  rnd1: %r lookups: %r t offset1: %r\"\" % (index, count, rnd1, lookups, offset1)\"\\n',\n",
              "        b'\"method is being called 8 times and i do not understand why? my test review is asking \"\"how many times will nicehippo () be called?\"\" and the correct answer is 8. i\\'m having trouble understanding this as no matter how i look at it i\\'m not seeing how it results in 8. please help..public class animals{..    public static string nicehippo().    {.        string hippo = \"\"nice hippo\"\";.        return hippo;.    }..    public static string nicelion(){.        string lion = \"\"nice lion\"\";.        return lion;.    }..    public static void main(string[] args){.        int count = 13;.        string stringout = \"\"i love this class \"\";.        do.        {.            stringout = \"\"animals can be messy \"\";.            for (int order = 1; order &lt; 5; ++ order).                for (int copy = 1; copy &lt;= 2; copy++).                    system.out.println(nicehippo());.            system.out.println(nicelion());.        }while (count != 13);..        count = 13;.        while (count &gt; 10).        {.            count--;.        }..        system.out.println(stringout + count);.    }.}\"\\n'],\n",
              "       [b'\"why can i not call my function with the calling line of why can i not call my function like i have it now? the code for the printdictionary works perfectly if i have it in the main method. i want to move it to a function and then just use it that way with passing in my parameter but it give errors which are listed at the bottom...question: what have i missed that would cause me the errors below when i simply just want to call a function to print?..    printdictionary(d); &lt;-- error...calling code:..    printdictionary(d);...function to call:..    private void printdictionary(dictionary&lt;string, list&lt;employee&gt;&gt;.                                                            inputdictionaryparm1).    {.        foreach (var a in inputdictionaryparm1).        {.            console.writeline(a.key);.            foreach (var e in a.value).            {.                console.writeline(\"\"t\"\" + e.name);.            }.        }.        console.readkey();.    }.....error table:..error   1   the best overloaded method match for \\'consoleapplication1.program.printdictionary(system.collections.generic.dictionary&lt;string,system.collections.generic.list&lt;consoleapplication1.employee&gt;&gt;)\\' has some invalid arguments  c:usersitpr13266appdatalocaltemporary projectsconsoleapplication1program.cs  52  13  consoleapplication1.error   2   argument 1: cannot convert from \\'system.collections.generic.sorteddictionary&lt;string,system.collections.generic.sortedset&lt;consoleapplication1.employee&gt;&gt;\\' to \\'system.collections.generic.dictionary&lt;string,system.collections.generic.list&lt;consoleapplication1.employee&gt;&gt;\\'   c:usersitpr13266appdatalocaltemporary projectsconsoleapplication1program.cs  52  29  consoleapplication1\"\\n',\n",
              "        b\"symbol.prototype comparison error why do i get this error:..uncaught typeerror: symbol.prototype [ @@toprimitive ] requires that 'this' be a symbol...when i run this code?..3 == symbol.prototype...i'm still trying to work out the reason why by myself and so far using a try-catch block to hold it down for awhile but i want a reason for the error.\\n\",\n",
              "        b\"servicepointmanager.certificatepolicy = new trustedcertificatepolicy(); i have added all the references for this but while rebuilding my code it gives returns me ..the type or namespace name 'trustedcertificatepolicy' could not be found (are you missing a using directive or an assembly reference?)..do i need to add any other dll?\\n\",\n",
              "        ...,\n",
              "        b'\"are functions defined regardless of the order? i\\'m not really a blank noob at all, although in my whole life i\\'ve never came across this, but am i right in assuming that blank must assign functions before running anything or something?..in all my experience, i expected this to return \\'undefined\\', but obviously it returns \\'function\\'...function bar() {.    return foo;.    foo = 10;.    function foo() {}.    var foo = \\'11\\';.}.alert(typeof bar());...is someone able to explain this for me?\"\\n',\n",
              "        b'how to get rid of the package does not exist exception? i have a blank source file called fileadd.blank in the folder implementation logic which imports the class on the businessclasses folder . but the the compiler is throwing an error that the pacakge businessclasses does not exist.though i am using the statement..import businessclasses.paramclass...in the command prompt i am using the statement in the implementation logic folder..blankc fileadd.blank...the folder structure is as follows :\\n',\n",
              "        b'\"split blank game into function i\\'d like to make my code more logical and clean by creating more functions for sections of the game. currently, there is only one function which is the round_process i like to call it - where it loops until the number of rounds the player inputted is reached. .could anyone help me out with doing this? i feel my code is overly messy and not logical whatsoever. thank you so much. ..# i implemented a random module into my.# program as it is needed to shuffle the \\'cpu_choices\\' list randomly..import random.import time.# time module will be used to roll out the output less rapidly..# so it isn\\'t jarring for the user and they can fully.# comprehend the content that is showing....# ---------------variables---------------#.# i started to plan what variables were necessary to meet the specifications..# i designated variables to sections to make it easier for myself.# and future-proofing as users can gain an understanding.# of each variable and their purpose...# game_rules are capitalized to represent it is a constant.# - meaning they never change. .game_rules = [\"\"rules:\"\", \"\"- paper wins against rock\"\",.              \"\"- rock wins against scissors\"\",.              \"\"- scissors wins against paper\"\",.              \"\"- when asked: \\'y\\' = yes, and \\'n\\' = no\"\"].cpu_choices = [\"\"paper\"\", \"\"scissors\"\", \"\"rock\"\"].# cpu_choices isn\\'t a constant because the order of the.# choices will change. (though the list will not)..player_name = 0  # stores the player\\'s name after input..player_score = 0  # player_score remembers the score of the player..player_history = [].# a placeholder list that holds the player\\'s movement history..player_move = 0.# player_move temporarily holds the move that the player plays...intro_loop = true.# intro_loop is the condition that keeps or stops the introduction running..game_loop = true.# game_loop keeps the \"\"gameplay\"\" section of the code.# running if the player wants to do another set of rounds...replay_loop = true.# replay_loop keeps asking the user if they want to replay.# incase they enter an incorrect input..replay_choice = \"\"y\"\".# replay_choice is the user\\'s input that decides.# whether or not the \"\"gameplay\"\" loop repeats...round_repeat = true.# this variable keeps the code asking what move the player.# wants to play if they enter the wrong thing..total_rounds = 0  # holds the # of rounds the user wants to play..round_num = 0.# round_num stores what number the current round is,.# as well as dictating how many times it runs..round_history = [[]].# round history was included as a placeholder list that.# will hold the move history of the rounds..# this will be used for the \\'match overview\\' part at the end of the game...cpu_move = 0  # cpu_move temporarily holds the move that the computer plays..cpu_score = 0  # cpu_score remembers the score of the computer..cpu_history = []  # a placeholder list that holds the cpu\\'s move history...# ----------------------------------------#..# this function serves as the code portion that.# handles the processes in a round..# (num) is a parameter that is used to insert the current round number...# -----------------------------------------------------------------------------...def round_process(num):.    # function that will operate the rounds.    global cpu_history.    global cpu_score.    global player_score.    global player_history.    # identifying global variables that will be used within.    # this specific function..    # changes made to these variables..    # resets the while loop condition.    round_repeat = true.    random.shuffle(cpu_choices).    # creating a random.shuffle for the cpu choices list.    # to allow for a random and unbiased.    # choice of either r, p or s (obviously)...    # this allows the cpu move to be the first move of \\'cpu_choices\\'..    # the list will always begin at the number 0, not 1..    # the order of the list is shuffled, so the index.    # should always stay the same..    # this allows for the cpu to stay with non-biased.    # randomised choices.    cpu_move = cpu_choices[0]..    # i implemented a while loop to make the input repeat in case the user.    # doesn\\'t input correctly. e.g. inputs a number or misspells a choice..    while round_repeat is true:.        print(\"\"n--------------nround\"\", num, \"\"n--------------\"\").        time.sleep(1).        # all time sleeps incorporated are used to delay the program.        # from running until the bracket number is reached..        # in this case, it\\'s 1 second. this allows for a more fluent,.        # and less jarring and overstuffed program when playing..        player_move = input(.            \"\"nwhat\\'s your move? \\'paper\\', \\'scissors\\' or \\'rock\\'t?\"\").            .strip().capitalize().        # the .strip gets rid of spaces in the player move, before and after..        # this is useful in a situation where the player may accidentally.        # hit space before or after their answer, and it will still be valid..        # this input asks and stores what move the user wants to make..        # players move is capitalized so if they type \\'rock\\'.        # without a capital r, the program will still.        # recognize it as a valid answer...        # this \\'if\\' statement validates the user\\'s input..        # otherwise they will be asked again via the else statement..        # both not capitalized and capitalized inputs can be accepted, as.        # .capitalize is utilized in my player_move variable..        if player_move == \"\"paper\"\" .           or player_move == \"\"rock\"\" .           or player_move == \"\"scissors\"\":.            # if the input is equal to.            # paper, scissors, or rock, the program will proceed..            # keep in mind capitalized characters will not matter,.            # due to the strip and capitalize method..            print(.                \"\"nlocked in! you weapon of choice was\"\", player_move,.                \"\"nthe cpu chose\"\", cpu_move)..# -----------------------------------------------------------------------------..            # ----------scoring----------#..            # the if and elif statements within the scoring.            # section dictate whether the user wins, draws, or.            # loses with the cpu..            # scores are added according to the result..            # wins count for two points, draws 1, losses 0..            if player_move == \"\"paper\"\" and cpu_move == \"\"rock\"\" .                or player_move == \"\"rock\"\" and cpu_move == \"\"scissors\"\" .                    or player_move == \"\"scissors\"\" and cpu_move == \"\"paper\"\":.                player_score += 2.                # point is added to the player\\'s score by 2..                time.sleep(1).                print(\"\"nnice work, \"\", player_name, \"\"! you win this round!\"\").            elif player_move == cpu_move:.                player_score += 1.                # this elif gives both the cpu and the.                # player a point each..                cpu_score += 1.                time.sleep(1).                print(\"\"looks like both of you had the same idea!\"\").                print(\"\"it\\'s a draw!\"\").            else:.                time.sleep(1).                cpu_score += 2.                # only adds to the cpu_score because the player lost..                print(\"\"nyikes! you lose this round! he beat you with\"\",.                      cpu_move)..            time.sleep(0.5).            print(\"\"n\"\", player_name, \"\"\\'s score is\"\", player_score).            # states scores so far for player and cpu.            print(\"\"computer\\'s score is\"\", cpu_score).            # player_history and cpu_history append, or add,.            # their specific moves from each round into the list..            # this is required in my specifications and can.            # show a \\'match history\\' type screen in the end...            # ----------add scores----------#.            # adding scores from each round and.            # appending the points to the history.            # lists for a match overview and game history at end of the game..            player_history.append(player_move).            cpu_history.append(cpu_move).            # adds the cpu move for each round to the cpu_history list..            round_repeat = false.            # the round loop turns false (not true) so the player.            # continues to next round or end of game..            # ------------------------------#.        else:.            print(\"\"n!!!!!!!!!!!!!!!!!!!!!!!!!!!!!!!!!!!\"\").            print(\"\"|                                 |\"\").            print(\"\"|         invalid input           |\"\").            print(\"\"|        please try again.        |\"\").            print(\"\"|                                 |\"\").            print(\"\"!!!!!!!!!!!!!!!!!!!!!!!!!!!!!!!!!!!\"\")..            # ---------------------------#.# -----------------------------------------------------------------------------..print(\"\"-----------------------------------\"\").print(\"\"|                                 |\"\").print(\"\"|       t1g3r games presents..    |\"\").print(\"\"|                                 |\"\").print(\"\"|       rock paper scissors       |\"\").print(\"\"|        blank remastered        |\"\").print(\"\"|                                 |\"\").print(\"\"-----------------------------------\"\").time.sleep(1).for rule in game_rules:.    print(rule).# this for loop prints game_rules in a list layout by printing.# each rule within game_rules for every cycle of the loop..# a for loop is used for iterating over a sequence..while intro_loop is true:.    # valid name input is stored inside the player_name variable.    # (was formerly blank).    print(\"\"nwelcome to rock paper scissors, blank remastered!\"\").    player_name = input(\"\"what is your name?t\"\").strip().capitalize().    # .capitalize capitalises the first letter of the.    # username for a more aesthetically pleasing look in the game..    if player_name:  # if player name is blank (no characters).        # if statement forces the name to not be blank and to.        # reinput its data input..        intro_loop = false.        # introduction is false so it stops -.        # moves on to next part of the game (round selection and gameplay).        print(\"\"nhey there\"\", player_name, \"\"! that\\'s a cool name!\"\").    else:.        print(\"\"-------nsurely you\\'ve got a name! try againn-------\"\").# i started the game loop here because from here on all inputs.# i request from the user will be only used to play the game..# i felt the user didn\\'t have the need to reinput their name -.# so the while statement goes straight to the rounds part...        # -------------------round option-------------------#..while game_loop:.    try:.        total_rounds = int(input(.            \"\"nenter a round count: \\'3\\', \\'5\\', \\'7\\' or \\'9\\'t\"\")).        if total_rounds not in range(3, 10, 2):.            # start, stop, step. starts at 3, ends at 10.            # (but doesn\\'t include) and.            # steps every 2 to make sure user\\'s input is odd #..            print(.                \"\"n-------nplease enter \\'3\\', \\'5\\', \\'7\\' or \\'9\\'n-------\"\")..        # --------------------------------------------------#..        else:.            # i reset these variables in the else statement,.            # in case the user wants to replay the game..            # this ensures the scores and histories won\\'t mess up..            player_history = [].            cpu_history = [].            round_num = 1.            cpu_score = 0.            player_score = 0.            replay_loop = true..            while round_num &lt;= total_rounds:.                # this while loop repeats the gameplay function.                # (round_process) until the.                # total amount of rounds inputted by user has been met..                # this is constructed by adding 1 to.                # round_num every time the loop cycles through..                round_process(round_num).                round_num += 1.                # concatenates lists.            round_history = [list(a) for a in zip(player_history, cpu_history)].            # merges history lists together for the \"\"history\"\".            # or match overview section..            # the lists become what is known as a.            # \"\"multidimensional list\"\" which overrides the prior data.            print(\"\"n-------nhistoryn-------\"\").            # this for loop prints out the history of the.            # choices both the user and computer.            # by printing the history lists..            # i acts as a counter, increasing by 1 every cycle of the loop..            # the range ends at the amount of rounds..            for i in range(0, round_num - 1):.                print(\"\"nround\"\", str(i + 1) + \"\": you chose\"\", round_history.                      [i][0] + \"\". the cpu chose\"\", round_history[i][1]).            print(\"\"n----------nmatch resultsn----------\"\").            print(\"\"nyou finished on a total score of\"\", player_score,.                  \"\"nthe computer finished on a total score of\"\", cpu_score)..# -----------------------------------------------------------------------------..            # ------------winner determined------------#.            # simple code which identifies a winner, loser, or a tie..            if player_score &gt; cpu_score:.                print(\"\"n you won! congratulations\"\", player_name, \"\"!\"\").            elif player_score &lt; cpu_score:.                print(\"\"nunlucky mate! you lost :(\"\").            elif player_score == cpu_score:.                print(\"\"nyou drew! :|\"\")..            # -----------------------------------------#..            while replay_loop is true:.                replay_choice = input(.                    \"\"nwould you like to play again? \\'y\\' or \\'n\\'t\"\").                replay_choice = replay_choice.lower().                # y and n capitals can be accepted,.                # as it lowercases the replay_choice input..                if replay_choice == \"\"y\"\" or replay_choice == \"\"n\"\":.                    if replay_choice == \"\"n\"\":.                        # if statement validates the user\\'s input..                        print(\"\"nhave a good day\"\", player_name, \"\"!\"\").                        # the game_loop and replay_loop will.                        # break on input n, ending game..                        game_loop = false.                    replay_loop = false.                else:.                    print(\"\"n-------nplease enter \\'y\\' or \\'n\\'n-------\"\").                    # where the input is invalid, the.                    # user will be asked again until they input \\'y\\' or \\'n\\'..    except:.        print(\"\"n-------nplease enter a digitn-------\"\")```\"\\n'],\n",
              "       [b'\"i need: \"\"when textbox1.length = 4 in 1 index element add \"\" \"\" by insert\"\" my code : ..int len = textbox1.text.length;..if (len == 4).{.   int one = 1;.   string empty = \"\" \"\";.   textbox1.text.insert(one, empty);.}\"\\n',\n",
              "        b'\"force download of multiple files stopped working i have a piece of code that triggers multiple files download. unfortunately, for some reasons it stopped working (all browsers). it only downloads the last file for the last id...// generate &lt;a&gt; tag for each id and trigger click event.ids.foreach(function(id) {.   var url = window.location.protocol + \\'//\\' + window.location.host + \\'/api/v1/files/\\' + id.   var anchor = angular.element(\\'&lt;a download&gt;&lt;/a&gt;\\');.   anchor.attr({href: url, target: \\'_self\\'});.   anchor[0].click();.});...any idea what causes this and how to fix it?\"\\n',\n",
              "        b'\"execute blank function with id i have a function to add or remove text..function additionaltext()...when i use:..&lt;a id=\"\"togglebutton\"\" class=\"\"moretext\"\" onclick\"\"additionaltext()\"\" &gt;see more&lt;/a&gt;...the function executes correctly...however, i want to have all my blank in my .js file and use the id id=\"\"togglebutton\"\" to trigger the function. when i use:..onclick = function () {.additionaltext();.}...i can click on any point of the page and the additional text is displayed. i just want it to execute when \"\"see more\"\" is clicked. i don\\'t want to use jquery, but i know it is something to do with an event listener and getelementbyid, but i am stumped -  could someone please help? thanks.\"\\n',\n",
              "        ...,\n",
              "        b'\"how to avoid using a number or enum when implementing business logic i\\'m working on implementing come business logic in my blank application..i\\'m having trouble fitting the logic into a sane piece of code..the logic to implement goes like this:..there is a tree of elements, let\\'s say: project, country, region, city. a single project contains countries. countries contains regions, region contains cities and cities contain data entries. we\\'ll be populating the elements with data entries based on what information is available....if country, region, and city information is available, push the data to the project and use the info to know where to insert the data entries..if country info is not available, create a new country and use region and city info to insert the data entries..if only city info is available, create a new region inside a new country and use city info to put data there..if no info is available, create a new city inside a new region inside a new country and put the data there..if any info is not available out of order (for example country and region are available but not city) we have to fall back to the more general case (creating new country, region and city in this case). ...additionally:...when you create a leaf class, you have to provide the parent in the constructor..querying about what info is available is expensive..i would like to avoid repeating the code that creates new classes..i cannot change the implementation of classes country, region, city....my solution below works, but it\\'s ugly and using an integer to control app flow gives me shivers...how can i improve the code snippet below?..country country = null;.region region = null;.city city = null;..int level;..if (!iscityinfoavailable()).{.    // we have to make a new country, region and city.    level = 3;.}.else if (!isregioninfoavailable()).{.    // we have to make a new country and region.    level = 2;.}.else if (!iscountryregionavailable()).{.    // we have to make a new country.    level = 1;.}.else.{.    // we have all the info we need.    level = 0;.}..idataentrytarget target;..if (level &gt; 0).{.    country = new country(project, \"\"unnamed country\"\");.    target = country;.}.if (level &gt; 1).{.    region = new region(country, \"\"unnamed region\"\", region.defaultregionsettings);.    target = region;.}.if (level &gt; 2).{.    city = new city(region, \"\"unnamed city\"\", 0);.    target = city;.}..// ... proceed with data entry code using `target`...\"\\n',\n",
              "        b\"blank - return length of current url i've been searching and i can't find a blank method or anything that may give me the length of the url of the page currently shown. it would be helpful for a little project of mine. any ideas?\\n\",\n",
              "        b'microsoft.aspnet.friendlyurls how to remove it microsoft.aspnet.friendlyurls been added to a project and no longer need . how to i remove it . i try uninstalling and removing it from the global.asax.i get the following error ..http error 404.0 - not found\\n'],\n",
              "       ...,\n",
              "       [b\"console like output in windows with blank.net is there a control that would allow me a console like output of text? like cout in c++ or textout in wm paint message. ..i need to output a two dimensional array and later be able to change background color of each array element. if there are any other ways i could achieve it please do leave a suggestion. however i can't use an array of labels or other controls.\\n\",\n",
              "        b'\"attributeerror: \\'file\\' object has no attribute \\'append\\' i\\'m really new to this whole thing, so excuse the maybe stupid question, but i am too stupid to find the answer myself...i\\'ve got a list with links urls and timestamps and want to shorten the urls and save the result to a new file..but running..file = open(\\'history.csv\\',\\'r\\').clean = open(\\'historyclean.csv\\',\\'a\\')..for x in file:.    b = x.rsplit(\\'/\\',1).    b.pop().        clean.append(b)...results in..    attributeerror: \\'file\\' object has no attribute \\'append\\'...and i can\\'t find out why..i am using blank 2.7, if relevant..thanks in advance.\"\\n',\n",
              "        b'\"what path is represented by \"\"../\"\" in blank? in this code:..import scipy.io as scpio.scpio.loadmat(\\'../data/file.mat\\')...which path is represented by \\'../\\', and how can i print this path?..i am running anaconda, and i assumed that \\'../\\' would represent the home directory in parentheses before each anaconda command prompt line, but that guess was incorrect.\"\\n',\n",
              "        ...,\n",
              "        b'\"why in blank range (0,x**2+1) very slow? here is my code ..def(x):.    for i in range (0,x**2+1):.        ......but i found it is very slow!!.who can tell me the reason,thanks!\"\\n',\n",
              "        b'\"check multiple keys in a dictionary for existence and value i would like to do something only if an object has two keys with given values:..tel = ....nam = ....for obj in listofobjs:.    for key, val in obj.items():.        if (key == \\'tel\\' and val == tel) and .           (key == \\'nam\\' and val == name):.            # do something......which won\\'t work since key and value can\\'t be two values at the same time.\"\\n',\n",
              "        b'\"find duplicate entries blank i am new to programming so this may seem somewhat straightforward, but i cannot seem to figure it out...i am trying to find duplicate values that are in a datatable in one column of the values. ..here is what i was trying to do it with...datarow[] dupresults = dt.select(\"\"prov_new\"\");.tableissues = string.empty;.datatable dttemp = dt.defaultview.totable(true, \"\"new_prov\"\");..if (dupresults.length == 0).{.    return true;.}.else.{.    foreach (datarow item in dupresults).    {.        console.writeline(item[1]);.        tableissues += \"\"provider code is not unique for \"\" + item[1].tostring() + \"\". revise non-unique codes.rnnnn\"\";.    }.    return false;.}...alright, but i am also having it search to make sure that there are no empty fields in prov_new too. so i would not know where to put that. i am very new to blank. i just started last week. i am doing side projects for my father\\'s company...private bool validatetable(datasets.setup.setup_mwprovdatatable dt, out string tableissues).    {.        try.        {.            //newcode not used for other row.            datarow[] result = dt.select(\"\"prov_new = \\'\\'\"\");.            datarow[] dupresults = dt.select(\"\"prov_new\"\");.            tableissues = string.empty;.            datatable dttemp = dt.defaultview.totable(true, \"\"new_prov\"\");....            if (dupresults.length == 0).            {..                return true;.            }.            else.            {.                var duplicates = dt.asenumerable().               .select(dr =&gt; dr.field&lt;string&gt;(\"\"prov_new\"\")).               .groupby(x =&gt; x).               .where(g =&gt; g.count() &gt; 1).               .select(g =&gt; g.key).               .tolist();..                foreach (datarow item in dupresults).                {.                    console.writeline(item[1]);.                    tableissues += \"\"provider code is not unique for \"\" + item[1].tostring() + \"\". revise non-unique codes.rnnnn\"\";.                }.                return false;.            }...            if (result.length == 0).            {.                //todo: add next step for validation..                return true;..            }.            else.            {.                foreach (datarow item in result).                {.                    console.writeline(item[1]);.                    tableissues += \"\"provider code \"\" + item[1].tostring() + \"\" is blank. add new provider code for \"\" + item[1].tostring() +\"\".rnnn\"\";.                }...                return false;.            }..           }.        catch (exception).        {..            throw;.        }.    }...}\"\\n'],\n",
              "       [b'\"how can i count form fields with the same id? what i want should be very simple i think, but i end up with too complex situations if i search here, or on google. ..&lt;script language=\"\"blank\"\"&gt;..// putten tellen..$(document).ready(function () {.    $(\"\"input[type=\\'number\\']\"\").keyup(function () {.        $.fn.myfunction();.    });.    $.fn.myfunction = function () {.        var minute_value = $(\"\"#minute\"\").val();.        var second_value = $(\"\"#second\"\").val();..        if ((minute_value != \\'\\')) {.            var productiesec_value = (1 / (parseint(minute_value) * 60 + parseint(second_value)));.            var productiemin_value = productiesec_value * 60;.            var productieuur_value = productiesec_value * 3600;.            var productiedag_value = productiesec_value * 86400;.            var productieweek_value = productiesec_value * 604800;.            var productiemaand_value = productiesec_value * 2629700;.            var productiejaar_value = productiesec_value * 31556952;...            productiesec_value = (productiesec_value).tofixed(5);.            productiemin_value = (productiemin_value).tofixed(2);.            productieuur_value = (productieuur_value).tofixed(2);.            productiedag_value = (productiedag_value).tofixed(0);.            productieweek_value = (productieweek_value).tofixed(0);.            productiemaand_value = (productiemaand_value).tofixed(0);.            productiejaar_value = (productiejaar_value).tofixed(0);..            $(\"\"#productiesec\"\").val(productiesec_value.tostring());.            $(\"\"#productiemin\"\").val(productiemin_value.tostring());.            $(\"\"#productieuur\"\").val(productieuur_value.tostring());.            $(\"\"#productiedag\"\").val(productiedag_value.tostring());.            $(\"\"#productieweek\"\").val(productieweek_value.tostring());.            $(\"\"#productiemaand\"\").val(productiemaand_value.tostring());.            $(\"\"#productiejaar\"\").val(productiejaar_value.tostring());.        }.    };.});..&lt;/script&gt;...the thing i\\'d like to accomplish is:...calculate the production time of a gem in multi-types of time (seconds, minutes, hours etc.) - (done) .calculate the production of gems by multiple pits. ...preview: http://hielke.net/projecten/productie/edelsteenput.htm..the idea is that you fill in the minutes in the first field and the seconds in the second field. then the script should count the production in seconds, minutes, hours etc. on the right side...after that it must be possible to fill in the second row of minutes and seconds and then counts the total production time. the same for the rest of the rows.\"\\n',\n",
              "        b'\"void cannot dereferenced while chaining methods i am trying to use printwriter like this:..new printwriter(\"\"/tmp/test.csv\"\", \"\"utf-8\"\").   .println(\"\"1,1,1\"\").   .close();...but blank complains:...  void cannot dereferenced ...if i do:..printwriter pw = new printwriter(\"\"/tmp/test.csv\"\", \"\"utf-8\"\");.pw.println(\"\"1,1,1\"\");.pw.close();...it works, any reasons?\"\\n',\n",
              "        b'\"customize how a blank object is processed as a function argument? a blank class\\'s __call__ method lets us specify how a class member should be behave as a function. can we do the \"\"opposite\"\", i.e. specify how a class member should behave as an argument to an arbitrary other function?..as a simple example, suppose i have a listwrapper class that wraps lists, and when i call a function f on a member of this class, i want f to be mapped over the wrapped list. for instance:..x = wrappedlist([1, 2, 3]).print(x + 1) # should be wrappedlist([2, 3, 4])..d = {1: \"\"a\"\", 2: \"\"b\"\", 3:\"\"c\"\"}.print(d[x]) # should be wrappedlist([\"\"a\"\", \"\"b\"\", \"\"c\"\"])...calling the hypothetical __call__ analogue i\\'m looking for __arg__, we could imagine something like this: ..class wrappedlist(object):.    def __init__(self, to_wrap):.        self.wrapped = to_wrap..   def __arg__(self, func):.       return wrappedlist(map(func, self.wrapped))...now, i know that (1) __arg__ doesn\\'t exist in this form, and (2) it\\'s easy to get the behavior in this simple example without any tricks. but is there a way to approximate the behavior i\\'m looking for in the general case?\"\\n',\n",
              "        ...,\n",
              "        b\"how to solve error operator '-' cannot be applied to operands of type 'float' and 'string' how to solve error...  operator '-' cannot be applied to operands of type 'float' and 'string' ...textbox5.text = (float.parse(textbox3.text) - float.parse(textbox4.text).tostring());\\n\",\n",
              "        b'\"add an extra step to column in blank game i created this arcade game by going through a few different tutorials and now i can\\'t seem to finish it. i need to add an extra step so the player only wins when it steps into the water. at the moment the player wins when they step onto the final block. ..any direction would be appreciated, https://github.com/cathyxxx/arcade-game\"\\n',\n",
              "        b'\"blank: creating systeminfo dialog similar to visual studio help | system info within visual studio, if you click on help | about microsoft visual studio | system info, you get a tree view with system info parameters...i am looking at the system.management.managementobjectsearcher class to create a similar dialog but is there a .net api one can call to bring up a similar window with such info?\"\\n'],\n",
              "       [b'visual studio intellisense blank description timeout? is there any way to change the timeout on the description of intellisense for visual studio 2012?  i often cannot read and comprehend the description before it times out.\\n',\n",
              "        b'\"where can i reference all unicode letters that blank allows? chapter 2 of definitive blank states that an identifier must begin with..$, _, or a letter and be followed by the same + digits...it also states that letters and digits included unicode letters and digits...where can i get a list to reference all of these...interestingly, you can do things like:..var \\xc3\\xa9...i was just looking for an exact list or description that is not overly technical...this is for es-5\"\\n',\n",
              "        b'\"encoding string blank i get a page response from a web and it is having strings like \"\"llu\\xc3\\xads qu\\xc3\\xadlez\"\". but i get it as \"\"llu&amp;#xed;s qu&amp;#xed;lez\"\". so how do i change it back to \"\"llu\\xc3\\xads qu\\xc3\\xadlez\"\" in blank?..thank you.\"\\n',\n",
              "        ...,\n",
              "        b'\"why boolean and bool from the link ( which is mentioned in question) my question is that microsoft says \"\"the blank type keywords and their aliases are interchangeable\"\" but why we need aliases, from my point of view boolean is more meaningful then bool and int32 is more meaningful then int then why aliases ???\"\\n',\n",
              "        b'\"unable to save object data to variable in blank i have just returned data from my function and have confirmed using console.log that the object actually has data so i must be missing something obvious here but i just dont know. ..// variables that do not recive values.var reqsummoner = req.body.summonername.tolowercase();.var summonerid;.var summonerlevel;.var profileicon;.var summonername;.var games;.lolapi.summoner.getbyname(reqsummoner, function (err, summoner) {.    if(!err) {.        // attempting to save variables to be accessible outside function.        summonerid = summoner[reqsummoner].id;.        summonerlevel = summoner[reqsummoner].summonerlevel;.        profileicon = summoner[reqsummoner].profileiconid;.        summonername = summoner[reqsummoner].name;.    }.});\"\\n',\n",
              "        b'\"setting the checkbox as readonly i want to set up controls that are visible to administrators only, now the only problem with checkbox controls is, do i not know how to make it visible only to users? but they do not have the ability to click and change the value of the checkbox. this is my code current...admin = isadministrator(userid);.            if (admin).            {.                combobox1.datasource = dataaccess.getall();.                combobox1.displaymember = \"\"fullname\"\";.                combobox1.valuemember = \"\"id\"\";.                labelname.visible = false;.            }.            else.            {.                combobox1.visible = false;.                txtboxsaldo.readonly = true;.                txtboxsaldo.backcolor = systemcolors.window;.                buttonsavechanges.visible = false;..            }\"\\n']],\n",
              "      dtype=object)>"
            ]
          },
          "metadata": {
            "tags": []
          },
          "execution_count": 176
        }
      ]
    },
    {
      "cell_type": "markdown",
      "metadata": {
        "id": "Je6CmaBdKA05"
      },
      "source": [
        "[TextVectorization API](https://www.tensorflow.org/api_docs/python/tf/keras/layers/experimental/preprocessing/TextVectorization)"
      ]
    },
    {
      "cell_type": "code",
      "metadata": {
        "id": "at0QnU8plmEy"
      },
      "source": [
        "max_features = 10000\n",
        "sequence_length = 250\n",
        "\n",
        "vectorize_layer = TextVectorization(   # for batch of strings\n",
        "    standardize=data_preprocess.text_standardization,\n",
        "    max_tokens=max_features,\n",
        "    output_mode='binary'              #  binary mode to build bag of words model\n",
        ")\n"
      ],
      "execution_count": 177,
      "outputs": []
    },
    {
      "cell_type": "code",
      "metadata": {
        "id": "1LSqbHYtl1-t"
      },
      "source": [
        "# # Make a text-only dataset (without labels), then call adapt\n",
        "train_text = raw_train_ds.map(lambda x, y: x)\n",
        "vectorize_layer.adapt(train_text)\n"
      ],
      "execution_count": 178,
      "outputs": []
    },
    {
      "cell_type": "code",
      "metadata": {
        "colab": {
          "base_uri": "https://localhost:8080/"
        },
        "id": "y1nBMcmFmDzi",
        "outputId": "b2865e19-5295-4419-c9b9-d324be382458"
      },
      "source": [
        "text_batch, label_batch = next(iter(raw_train_ds))\n",
        "tf.expand_dims(text_batch[0],-1).shape.as_list()"
      ],
      "execution_count": 179,
      "outputs": [
        {
          "output_type": "execute_result",
          "data": {
            "text/plain": [
              "[1]"
            ]
          },
          "metadata": {
            "tags": []
          },
          "execution_count": 179
        }
      ]
    },
    {
      "cell_type": "code",
      "metadata": {
        "id": "LIAVLwAUmFZM"
      },
      "source": [
        "def vectorize_text(text, label):\n",
        "  text = tf.expand_dims(text, -1)\n",
        "  return vectorize_layer(text), label"
      ],
      "execution_count": 181,
      "outputs": []
    },
    {
      "cell_type": "code",
      "metadata": {
        "colab": {
          "base_uri": "https://localhost:8080/"
        },
        "id": "dwWTYskjmS4h",
        "outputId": "4402de46-1be5-4898-d5fe-bf4e8e6a55d7"
      },
      "source": [
        "# retrieve a batch (of 32 reviews and labels) from the dataset. axis = 0\n",
        "\n",
        "text_batch, label_batch = next(iter(raw_train_ds))\n",
        "first_review, first_label = text_batch[7], label_batch[7]\n",
        "print(\"Review\", first_review)\n",
        "print(\"Label\", raw_train_ds.class_names[first_label])\n",
        "print(\"Vectorized review\", vectorize_text(first_review, first_label))"
      ],
      "execution_count": 182,
      "outputs": [
        {
          "output_type": "stream",
          "text": [
            "Review tf.Tensor(b'\"when we use new keyword for create new datetime (object) what is the different between this..datetime thistime = new datetime();...and this..datetime thistime;...who is the better performance, and who is the better practice for used. for beginning when is create is have the same date times. i used thistime to add datetime from file who has 8000 rows, with method parseexact().\"\\n', shape=(), dtype=string)\n",
            "Label csharp\n",
            "Vectorized review (<tf.Tensor: shape=(1, 10000), dtype=float32, numpy=array([[1., 1., 1., ..., 0., 0., 0.]], dtype=float32)>, <tf.Tensor: shape=(), dtype=int32, numpy=0>)\n"
          ],
          "name": "stdout"
        }
      ]
    },
    {
      "cell_type": "code",
      "metadata": {
        "id": "IoJIAFPBmVfs"
      },
      "source": [
        "# text vectorization\n",
        "\n",
        "train_ds = raw_train_ds.map(vectorize_text)\n",
        "val_ds = raw_val_ds.map(vectorize_text)\n",
        "test_ds = raw_test_ds.map(vectorize_text)"
      ],
      "execution_count": 183,
      "outputs": []
    },
    {
      "cell_type": "code",
      "metadata": {
        "id": "PdHjsd6FmjHV"
      },
      "source": [
        "AUTOTUNE = tf.data.AUTOTUNE\n",
        "def configure_dataset(dataset):\n",
        "  return dataset.cache().prefetch(buffer_size=AUTOTUNE)\n",
        "  \n",
        "train_ds = configure_dataset(train_ds)\n",
        "val_ds = configure_dataset(val_ds)\n",
        "test_ds = configure_dataset(test_ds)"
      ],
      "execution_count": 184,
      "outputs": []
    },
    {
      "cell_type": "code",
      "metadata": {
        "colab": {
          "base_uri": "https://localhost:8080/"
        },
        "id": "4f3-nc4CmlPU",
        "outputId": "c4582c42-fdf9-4a07-cdbd-c2aca0d91f74"
      },
      "source": [
        "print(\"1287 ---> \",vectorize_layer.get_vocabulary()[1287])\n",
        "print(\" 9999 ---> \",vectorize_layer.get_vocabulary()[908])\n",
        "print('Vocabulary size: {}'.format(len(vectorize_layer.get_vocabulary())))"
      ],
      "execution_count": 185,
      "outputs": [
        {
          "output_type": "stream",
          "text": [
            "1287 --->  it?\"\n",
            " 9999 --->  collection\n",
            "Vocabulary size: 10000\n"
          ],
          "name": "stdout"
        }
      ]
    },
    {
      "cell_type": "code",
      "metadata": {
        "id": "NYncJ591kvUT"
      },
      "source": [
        "def build_model(num_labels):\n",
        "  \n",
        "  model = tf.keras.Sequential([\n",
        "  layers.Dense(num_labels)])\n",
        "\n",
        "  return model"
      ],
      "execution_count": 186,
      "outputs": []
    },
    {
      "cell_type": "code",
      "metadata": {
        "id": "pWoMNvinl0vp"
      },
      "source": [
        "def compile_model(model, train_data, validation_data, epochs, loss, optimizer, metrics):\n",
        "  model.compile(loss=loss,\n",
        "                optimizer=optimizer,\n",
        "                metrics=metrics)\n",
        "  \n",
        "  model_history = model.fit(\n",
        "            train_ds,\n",
        "            validation_data=val_ds,\n",
        "            epochs=epochs)\n",
        "  \n",
        "  return model_history\n",
        "\n",
        "\n",
        "\n",
        "\n",
        "\n",
        "  \n"
      ],
      "execution_count": 187,
      "outputs": []
    },
    {
      "cell_type": "code",
      "metadata": {
        "id": "urE4JL0gmn3T",
        "colab": {
          "base_uri": "https://localhost:8080/"
        },
        "outputId": "47c53513-4427-4cce-f9a7-f5a512e81d8a"
      },
      "source": [
        "model = build_model(4)\n",
        "\n",
        "\n",
        "model_history = compile_model(model, \n",
        "                train_ds,\n",
        "                val_ds, \n",
        "                10,\n",
        "                loss=tf.keras.losses.SparseCategoricalCrossentropy(from_logits=True),\n",
        "                optimizer='adam',\n",
        "                metrics=['accuracy']\n",
        "                )\n",
        "\n"
      ],
      "execution_count": 188,
      "outputs": [
        {
          "output_type": "stream",
          "text": [
            "Epoch 1/10\n",
            "200/200 [==============================] - 4s 20ms/step - loss: 1.0846 - accuracy: 0.6687 - val_loss: 0.8933 - val_accuracy: 0.7569\n",
            "Epoch 2/10\n",
            "200/200 [==============================] - 1s 3ms/step - loss: 0.7358 - accuracy: 0.8327 - val_loss: 0.7422 - val_accuracy: 0.7919\n",
            "Epoch 3/10\n",
            "200/200 [==============================] - 1s 3ms/step - loss: 0.5876 - accuracy: 0.8745 - val_loss: 0.6665 - val_accuracy: 0.7994\n",
            "Epoch 4/10\n",
            "200/200 [==============================] - 1s 3ms/step - loss: 0.4965 - accuracy: 0.8991 - val_loss: 0.6204 - val_accuracy: 0.8000\n",
            "Epoch 5/10\n",
            "200/200 [==============================] - 1s 3ms/step - loss: 0.4321 - accuracy: 0.9161 - val_loss: 0.5896 - val_accuracy: 0.8000\n",
            "Epoch 6/10\n",
            "200/200 [==============================] - 1s 3ms/step - loss: 0.3830 - accuracy: 0.9294 - val_loss: 0.5676 - val_accuracy: 0.8019\n",
            "Epoch 7/10\n",
            "200/200 [==============================] - 1s 4ms/step - loss: 0.3437 - accuracy: 0.9372 - val_loss: 0.5514 - val_accuracy: 0.8031\n",
            "Epoch 8/10\n",
            "200/200 [==============================] - 1s 4ms/step - loss: 0.3112 - accuracy: 0.9480 - val_loss: 0.5392 - val_accuracy: 0.8006\n",
            "Epoch 9/10\n",
            "200/200 [==============================] - 1s 4ms/step - loss: 0.2836 - accuracy: 0.9564 - val_loss: 0.5298 - val_accuracy: 0.8025\n",
            "Epoch 10/10\n",
            "200/200 [==============================] - 1s 3ms/step - loss: 0.2599 - accuracy: 0.9627 - val_loss: 0.5227 - val_accuracy: 0.8037\n"
          ],
          "name": "stdout"
        }
      ]
    },
    {
      "cell_type": "code",
      "metadata": {
        "id": "1b3xHz_PnkA4",
        "colab": {
          "base_uri": "https://localhost:8080/"
        },
        "outputId": "1565ef7f-dc4e-43d0-a9e0-44b19f97c18a"
      },
      "source": [
        "loss, accuracy = model.evaluate(test_ds)\n",
        "\n",
        "print(\"Loss: \", loss)\n",
        "print(\"Accuracy: \", accuracy)"
      ],
      "execution_count": 189,
      "outputs": [
        {
          "output_type": "stream",
          "text": [
            "250/250 [==============================] - 3s 10ms/step - loss: 0.5114 - accuracy: 0.8085\n",
            "Loss:  0.5113703012466431\n",
            "Accuracy:  0.8084999918937683\n"
          ],
          "name": "stdout"
        }
      ]
    },
    {
      "cell_type": "code",
      "metadata": {
        "id": "lUytS3qio1YF",
        "colab": {
          "base_uri": "https://localhost:8080/"
        },
        "outputId": "a4ef08f5-3510-4ba3-bf7e-61b9d03c330c"
      },
      "source": [
        "history_dict = model_history.history\n",
        "history_dict.keys()"
      ],
      "execution_count": 190,
      "outputs": [
        {
          "output_type": "execute_result",
          "data": {
            "text/plain": [
              "dict_keys(['loss', 'accuracy', 'val_loss', 'val_accuracy'])"
            ]
          },
          "metadata": {
            "tags": []
          },
          "execution_count": 190
        }
      ]
    },
    {
      "cell_type": "code",
      "metadata": {
        "id": "94sIu30Go6dj"
      },
      "source": [
        "def plot(history_dict, value):\n",
        "  acc = history_dict['accuracy']\n",
        "  val_acc = history_dict['val_accuracy']\n",
        "  loss = history_dict['loss']\n",
        "  val_loss = history_dict['val_loss']\n",
        "  epochs = range(1, len(acc) + 1)\n",
        "\n",
        "  if value == 'loss':\n",
        "    train_plot = loss\n",
        "    val_plot = val_loss\n",
        "  elif value == 'accuracy':\n",
        "    train_plot = acc\n",
        "    val_plot = val_acc\n",
        "\n",
        "  # \"bo\" is for \"blue dot\"\n",
        "  plt.plot(epochs, train_plot, 'bo', label='Training ' + value)\n",
        "  # b is for \"solid blue line\"\n",
        "  plt.plot(epochs, val_plot, 'b', label='Validation ' + value)\n",
        "  plt.title('Training and validation ' + value)\n",
        "  plt.xlabel('Epochs')\n",
        "  plt.ylabel(value)\n",
        "  plt.legend()\n",
        "\n",
        "  plt.show()"
      ],
      "execution_count": 208,
      "outputs": []
    },
    {
      "cell_type": "code",
      "metadata": {
        "colab": {
          "base_uri": "https://localhost:8080/",
          "height": 590
        },
        "id": "40NKxtDAsRct",
        "outputId": "2b65981d-567d-4f88-b4e5-6a1b0b356653"
      },
      "source": [
        "plot(history_dict, value='loss')\n",
        "print()\n",
        "plot(history_dict, value='accuracy')"
      ],
      "execution_count": 209,
      "outputs": [
        {
          "output_type": "display_data",
          "data": {
            "image/png": "[encoded data removed]",
            "text/plain": [
              "<Figure size 432x288 with 1 Axes>"
            ]
          },
          "metadata": {
            "tags": [],
            "needs_background": "light"
          }
        },
        {
          "output_type": "stream",
          "text": [
            "\n"
          ],
          "name": "stdout"
        },
        {
          "output_type": "display_data",
          "data": {
            "image/png": "[encoded data removed]",
            "text/plain": [
              "<Figure size 432x288 with 1 Axes>"
            ]
          },
          "metadata": {
            "tags": [],
            "needs_background": "light"
          }
        }
      ]
    },
    {
      "cell_type": "code",
      "metadata": {
        "id": "xd2YEO6KpIZT",
        "colab": {
          "base_uri": "https://localhost:8080/"
        },
        "outputId": "9b0e6633-2bf3-4fdc-87d7-65c3d8b77313"
      },
      "source": [
        "def export_model(model, vectorize_layer):\n",
        "  export_model = tf.keras.Sequential([\n",
        "    vectorize_layer,\n",
        "    model,\n",
        "    layers.Activation('sigmoid')\n",
        "  ])\n",
        "\n",
        "  export_model.compile(\n",
        "      loss=losses.SparseCategoricalCrossentropy(), optimizer=\"adam\", metrics=['accuracy']\n",
        "  )\n",
        "\n",
        "  return export_model\n",
        "\n",
        "\n",
        "export_model = export_model(model, vectorize_layer)\n",
        "\n",
        "# Test it with `raw_test_ds`, which yields raw strings\n",
        "loss, accuracy = export_model.evaluate(raw_test_ds)\n",
        "print(accuracy)"
      ],
      "execution_count": 216,
      "outputs": [
        {
          "output_type": "stream",
          "text": [
            "250/250 [==============================] - 3s 11ms/step - loss: 0.5114 - accuracy: 0.8085\n",
            "0.8084999918937683\n"
          ],
          "name": "stdout"
        }
      ]
    },
    {
      "cell_type": "code",
      "metadata": {
        "id": "46IgqdsxpOLM"
      },
      "source": [
        "inputs = [\n",
        "       '''\n",
        "model.compile(loss=tf.keras.losses.SparseCategoricalCrossentropy(from_logits=True),\n",
        "              optimizer='adam',\n",
        "              metrics=['accuracy'])''',  # python\n",
        "       '''def configure_dataset(dataset):\n",
        "  return dataset.cache().prefetch(buffer_size=AUTOTUNE)''',  # java\n",
        "       ]\n",
        "\n",
        "\n",
        "# Inferencing on new data\n",
        "def get_string_labels(predictions):\n",
        "  predicted_int_labels = tf.argmax(predictions, axis=1)\n",
        "  predicted_labels = tf.gather(raw_train_ds.class_names,\n",
        "                               predicted_int_labels)\n",
        "  return predicted_labels\n"
      ],
      "execution_count": 217,
      "outputs": []
    },
    {
      "cell_type": "code",
      "metadata": {
        "id": "1Ujo68vTpioF",
        "colab": {
          "base_uri": "https://localhost:8080/"
        },
        "outputId": "62186b88-88db-43d5-fe3b-34edf68c7ea3"
      },
      "source": [
        "predictions = export_model.predict(inputs)\n",
        "predicted_labels = get_string_labels(predictions)\n",
        "for input, label in zip(inputs, predicted_labels):\n",
        "  print(\"Question: \", input)\n",
        "  print(\"Predicted label: \", label.numpy())"
      ],
      "execution_count": 218,
      "outputs": [
        {
          "output_type": "stream",
          "text": [
            "Question:  \n",
            "model.compile(loss=tf.keras.losses.SparseCategoricalCrossentropy(from_logits=True),\n",
            "              optimizer='adam',\n",
            "              metrics=['accuracy'])\n",
            "Predicted label:  b'javascript'\n",
            "Question:  def configure_dataset(dataset):\n",
            "  return dataset.cache().prefetch(buffer_size=AUTOTUNE)\n",
            "Predicted label:  b'python'\n"
          ],
          "name": "stdout"
        }
      ]
    },
    {
      "cell_type": "code",
      "metadata": {
        "id": "5LwTSzjuS0vm"
      },
      "source": [
        "predicted_int_labels = tf.argmax(predictions, axis=1)"
      ],
      "execution_count": 219,
      "outputs": []
    },
    {
      "cell_type": "code",
      "metadata": {
        "colab": {
          "base_uri": "https://localhost:8080/"
        },
        "id": "jD5aRVEXVpMo",
        "outputId": "74691fb7-0b8d-4722-e5b5-8006db22bfaa"
      },
      "source": [
        "predicted_int_labels.numpy()"
      ],
      "execution_count": 220,
      "outputs": [
        {
          "output_type": "execute_result",
          "data": {
            "text/plain": [
              "array([2, 3])"
            ]
          },
          "metadata": {
            "tags": []
          },
          "execution_count": 220
        }
      ]
    },
    {
      "cell_type": "code",
      "metadata": {
        "id": "Z8anOjuoVqPk",
        "colab": {
          "base_uri": "https://localhost:8080/"
        },
        "outputId": "e586476e-e6e6-4087-f870-8312ef58007e"
      },
      "source": [
        "from tensorflow import keras\n",
        "export_model.save('/content')\n"
      ],
      "execution_count": null,
      "outputs": [
        {
          "output_type": "stream",
          "text": [
            "INFO:tensorflow:Assets written to: /content/assets\n"
          ],
          "name": "stdout"
        }
      ]
    },
    {
      "cell_type": "code",
      "metadata": {
        "id": "LTFex8jUv0C1"
      },
      "source": [
        ""
      ],
      "execution_count": null,
      "outputs": []
    }
  ]
}
